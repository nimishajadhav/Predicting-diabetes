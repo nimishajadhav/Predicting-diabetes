{
  "nbformat": 4,
  "nbformat_minor": 0,
  "metadata": {
    "colab": {
      "name": "Machine_learning project",
      "provenance": [],
      "collapsed_sections": [],
      "toc_visible": true
    },
    "kernelspec": {
      "name": "python3",
      "display_name": "Python 3"
    }
  },
  "cells": [
    {
      "cell_type": "code",
      "metadata": {
        "id": "xSM__z0bsVvb",
        "colab_type": "code",
        "colab": {
          "resources": {
            "http://localhost:8080/nbextensions/google.colab/files.js": {
              "data": "Ly8gQ29weXJpZ2h0IDIwMTcgR29vZ2xlIExMQwovLwovLyBMaWNlbnNlZCB1bmRlciB0aGUgQXBhY2hlIExpY2Vuc2UsIFZlcnNpb24gMi4wICh0aGUgIkxpY2Vuc2UiKTsKLy8geW91IG1heSBub3QgdXNlIHRoaXMgZmlsZSBleGNlcHQgaW4gY29tcGxpYW5jZSB3aXRoIHRoZSBMaWNlbnNlLgovLyBZb3UgbWF5IG9idGFpbiBhIGNvcHkgb2YgdGhlIExpY2Vuc2UgYXQKLy8KLy8gICAgICBodHRwOi8vd3d3LmFwYWNoZS5vcmcvbGljZW5zZXMvTElDRU5TRS0yLjAKLy8KLy8gVW5sZXNzIHJlcXVpcmVkIGJ5IGFwcGxpY2FibGUgbGF3IG9yIGFncmVlZCB0byBpbiB3cml0aW5nLCBzb2Z0d2FyZQovLyBkaXN0cmlidXRlZCB1bmRlciB0aGUgTGljZW5zZSBpcyBkaXN0cmlidXRlZCBvbiBhbiAiQVMgSVMiIEJBU0lTLAovLyBXSVRIT1VUIFdBUlJBTlRJRVMgT1IgQ09ORElUSU9OUyBPRiBBTlkgS0lORCwgZWl0aGVyIGV4cHJlc3Mgb3IgaW1wbGllZC4KLy8gU2VlIHRoZSBMaWNlbnNlIGZvciB0aGUgc3BlY2lmaWMgbGFuZ3VhZ2UgZ292ZXJuaW5nIHBlcm1pc3Npb25zIGFuZAovLyBsaW1pdGF0aW9ucyB1bmRlciB0aGUgTGljZW5zZS4KCi8qKgogKiBAZmlsZW92ZXJ2aWV3IEhlbHBlcnMgZm9yIGdvb2dsZS5jb2xhYiBQeXRob24gbW9kdWxlLgogKi8KKGZ1bmN0aW9uKHNjb3BlKSB7CmZ1bmN0aW9uIHNwYW4odGV4dCwgc3R5bGVBdHRyaWJ1dGVzID0ge30pIHsKICBjb25zdCBlbGVtZW50ID0gZG9jdW1lbnQuY3JlYXRlRWxlbWVudCgnc3BhbicpOwogIGVsZW1lbnQudGV4dENvbnRlbnQgPSB0ZXh0OwogIGZvciAoY29uc3Qga2V5IG9mIE9iamVjdC5rZXlzKHN0eWxlQXR0cmlidXRlcykpIHsKICAgIGVsZW1lbnQuc3R5bGVba2V5XSA9IHN0eWxlQXR0cmlidXRlc1trZXldOwogIH0KICByZXR1cm4gZWxlbWVudDsKfQoKLy8gTWF4IG51bWJlciBvZiBieXRlcyB3aGljaCB3aWxsIGJlIHVwbG9hZGVkIGF0IGEgdGltZS4KY29uc3QgTUFYX1BBWUxPQURfU0laRSA9IDEwMCAqIDEwMjQ7CgpmdW5jdGlvbiBfdXBsb2FkRmlsZXMoaW5wdXRJZCwgb3V0cHV0SWQpIHsKICBjb25zdCBzdGVwcyA9IHVwbG9hZEZpbGVzU3RlcChpbnB1dElkLCBvdXRwdXRJZCk7CiAgY29uc3Qgb3V0cHV0RWxlbWVudCA9IGRvY3VtZW50LmdldEVsZW1lbnRCeUlkKG91dHB1dElkKTsKICAvLyBDYWNoZSBzdGVwcyBvbiB0aGUgb3V0cHV0RWxlbWVudCB0byBtYWtlIGl0IGF2YWlsYWJsZSBmb3IgdGhlIG5leHQgY2FsbAogIC8vIHRvIHVwbG9hZEZpbGVzQ29udGludWUgZnJvbSBQeXRob24uCiAgb3V0cHV0RWxlbWVudC5zdGVwcyA9IHN0ZXBzOwoKICByZXR1cm4gX3VwbG9hZEZpbGVzQ29udGludWUob3V0cHV0SWQpOwp9CgovLyBUaGlzIGlzIHJvdWdobHkgYW4gYXN5bmMgZ2VuZXJhdG9yIChub3Qgc3VwcG9ydGVkIGluIHRoZSBicm93c2VyIHlldCksCi8vIHdoZXJlIHRoZXJlIGFyZSBtdWx0aXBsZSBhc3luY2hyb25vdXMgc3RlcHMgYW5kIHRoZSBQeXRob24gc2lkZSBpcyBnb2luZwovLyB0byBwb2xsIGZvciBjb21wbGV0aW9uIG9mIGVhY2ggc3RlcC4KLy8gVGhpcyB1c2VzIGEgUHJvbWlzZSB0byBibG9jayB0aGUgcHl0aG9uIHNpZGUgb24gY29tcGxldGlvbiBvZiBlYWNoIHN0ZXAsCi8vIHRoZW4gcGFzc2VzIHRoZSByZXN1bHQgb2YgdGhlIHByZXZpb3VzIHN0ZXAgYXMgdGhlIGlucHV0IHRvIHRoZSBuZXh0IHN0ZXAuCmZ1bmN0aW9uIF91cGxvYWRGaWxlc0NvbnRpbnVlKG91dHB1dElkKSB7CiAgY29uc3Qgb3V0cHV0RWxlbWVudCA9IGRvY3VtZW50LmdldEVsZW1lbnRCeUlkKG91dHB1dElkKTsKICBjb25zdCBzdGVwcyA9IG91dHB1dEVsZW1lbnQuc3RlcHM7CgogIGNvbnN0IG5leHQgPSBzdGVwcy5uZXh0KG91dHB1dEVsZW1lbnQubGFzdFByb21pc2VWYWx1ZSk7CiAgcmV0dXJuIFByb21pc2UucmVzb2x2ZShuZXh0LnZhbHVlLnByb21pc2UpLnRoZW4oKHZhbHVlKSA9PiB7CiAgICAvLyBDYWNoZSB0aGUgbGFzdCBwcm9taXNlIHZhbHVlIHRvIG1ha2UgaXQgYXZhaWxhYmxlIHRvIHRoZSBuZXh0CiAgICAvLyBzdGVwIG9mIHRoZSBnZW5lcmF0b3IuCiAgICBvdXRwdXRFbGVtZW50Lmxhc3RQcm9taXNlVmFsdWUgPSB2YWx1ZTsKICAgIHJldHVybiBuZXh0LnZhbHVlLnJlc3BvbnNlOwogIH0pOwp9CgovKioKICogR2VuZXJhdG9yIGZ1bmN0aW9uIHdoaWNoIGlzIGNhbGxlZCBiZXR3ZWVuIGVhY2ggYXN5bmMgc3RlcCBvZiB0aGUgdXBsb2FkCiAqIHByb2Nlc3MuCiAqIEBwYXJhbSB7c3RyaW5nfSBpbnB1dElkIEVsZW1lbnQgSUQgb2YgdGhlIGlucHV0IGZpbGUgcGlja2VyIGVsZW1lbnQuCiAqIEBwYXJhbSB7c3RyaW5nfSBvdXRwdXRJZCBFbGVtZW50IElEIG9mIHRoZSBvdXRwdXQgZGlzcGxheS4KICogQHJldHVybiB7IUl0ZXJhYmxlPCFPYmplY3Q+fSBJdGVyYWJsZSBvZiBuZXh0IHN0ZXBzLgogKi8KZnVuY3Rpb24qIHVwbG9hZEZpbGVzU3RlcChpbnB1dElkLCBvdXRwdXRJZCkgewogIGNvbnN0IGlucHV0RWxlbWVudCA9IGRvY3VtZW50LmdldEVsZW1lbnRCeUlkKGlucHV0SWQpOwogIGlucHV0RWxlbWVudC5kaXNhYmxlZCA9IGZhbHNlOwoKICBjb25zdCBvdXRwdXRFbGVtZW50ID0gZG9jdW1lbnQuZ2V0RWxlbWVudEJ5SWQob3V0cHV0SWQpOwogIG91dHB1dEVsZW1lbnQuaW5uZXJIVE1MID0gJyc7CgogIGNvbnN0IHBpY2tlZFByb21pc2UgPSBuZXcgUHJvbWlzZSgocmVzb2x2ZSkgPT4gewogICAgaW5wdXRFbGVtZW50LmFkZEV2ZW50TGlzdGVuZXIoJ2NoYW5nZScsIChlKSA9PiB7CiAgICAgIHJlc29sdmUoZS50YXJnZXQuZmlsZXMpOwogICAgfSk7CiAgfSk7CgogIGNvbnN0IGNhbmNlbCA9IGRvY3VtZW50LmNyZWF0ZUVsZW1lbnQoJ2J1dHRvbicpOwogIGlucHV0RWxlbWVudC5wYXJlbnRFbGVtZW50LmFwcGVuZENoaWxkKGNhbmNlbCk7CiAgY2FuY2VsLnRleHRDb250ZW50ID0gJ0NhbmNlbCB1cGxvYWQnOwogIGNvbnN0IGNhbmNlbFByb21pc2UgPSBuZXcgUHJvbWlzZSgocmVzb2x2ZSkgPT4gewogICAgY2FuY2VsLm9uY2xpY2sgPSAoKSA9PiB7CiAgICAgIHJlc29sdmUobnVsbCk7CiAgICB9OwogIH0pOwoKICAvLyBXYWl0IGZvciB0aGUgdXNlciB0byBwaWNrIHRoZSBmaWxlcy4KICBjb25zdCBmaWxlcyA9IHlpZWxkIHsKICAgIHByb21pc2U6IFByb21pc2UucmFjZShbcGlja2VkUHJvbWlzZSwgY2FuY2VsUHJvbWlzZV0pLAogICAgcmVzcG9uc2U6IHsKICAgICAgYWN0aW9uOiAnc3RhcnRpbmcnLAogICAgfQogIH07CgogIGNhbmNlbC5yZW1vdmUoKTsKCiAgLy8gRGlzYWJsZSB0aGUgaW5wdXQgZWxlbWVudCBzaW5jZSBmdXJ0aGVyIHBpY2tzIGFyZSBub3QgYWxsb3dlZC4KICBpbnB1dEVsZW1lbnQuZGlzYWJsZWQgPSB0cnVlOwoKICBpZiAoIWZpbGVzKSB7CiAgICByZXR1cm4gewogICAgICByZXNwb25zZTogewogICAgICAgIGFjdGlvbjogJ2NvbXBsZXRlJywKICAgICAgfQogICAgfTsKICB9CgogIGZvciAoY29uc3QgZmlsZSBvZiBmaWxlcykgewogICAgY29uc3QgbGkgPSBkb2N1bWVudC5jcmVhdGVFbGVtZW50KCdsaScpOwogICAgbGkuYXBwZW5kKHNwYW4oZmlsZS5uYW1lLCB7Zm9udFdlaWdodDogJ2JvbGQnfSkpOwogICAgbGkuYXBwZW5kKHNwYW4oCiAgICAgICAgYCgke2ZpbGUudHlwZSB8fCAnbi9hJ30pIC0gJHtmaWxlLnNpemV9IGJ5dGVzLCBgICsKICAgICAgICBgbGFzdCBtb2RpZmllZDogJHsKICAgICAgICAgICAgZmlsZS5sYXN0TW9kaWZpZWREYXRlID8gZmlsZS5sYXN0TW9kaWZpZWREYXRlLnRvTG9jYWxlRGF0ZVN0cmluZygpIDoKICAgICAgICAgICAgICAgICAgICAgICAgICAgICAgICAgICAgJ24vYSd9IC0gYCkpOwogICAgY29uc3QgcGVyY2VudCA9IHNwYW4oJzAlIGRvbmUnKTsKICAgIGxpLmFwcGVuZENoaWxkKHBlcmNlbnQpOwoKICAgIG91dHB1dEVsZW1lbnQuYXBwZW5kQ2hpbGQobGkpOwoKICAgIGNvbnN0IGZpbGVEYXRhUHJvbWlzZSA9IG5ldyBQcm9taXNlKChyZXNvbHZlKSA9PiB7CiAgICAgIGNvbnN0IHJlYWRlciA9IG5ldyBGaWxlUmVhZGVyKCk7CiAgICAgIHJlYWRlci5vbmxvYWQgPSAoZSkgPT4gewogICAgICAgIHJlc29sdmUoZS50YXJnZXQucmVzdWx0KTsKICAgICAgfTsKICAgICAgcmVhZGVyLnJlYWRBc0FycmF5QnVmZmVyKGZpbGUpOwogICAgfSk7CiAgICAvLyBXYWl0IGZvciB0aGUgZGF0YSB0byBiZSByZWFkeS4KICAgIGxldCBmaWxlRGF0YSA9IHlpZWxkIHsKICAgICAgcHJvbWlzZTogZmlsZURhdGFQcm9taXNlLAogICAgICByZXNwb25zZTogewogICAgICAgIGFjdGlvbjogJ2NvbnRpbnVlJywKICAgICAgfQogICAgfTsKCiAgICAvLyBVc2UgYSBjaHVua2VkIHNlbmRpbmcgdG8gYXZvaWQgbWVzc2FnZSBzaXplIGxpbWl0cy4gU2VlIGIvNjIxMTU2NjAuCiAgICBsZXQgcG9zaXRpb24gPSAwOwogICAgd2hpbGUgKHBvc2l0aW9uIDwgZmlsZURhdGEuYnl0ZUxlbmd0aCkgewogICAgICBjb25zdCBsZW5ndGggPSBNYXRoLm1pbihmaWxlRGF0YS5ieXRlTGVuZ3RoIC0gcG9zaXRpb24sIE1BWF9QQVlMT0FEX1NJWkUpOwogICAgICBjb25zdCBjaHVuayA9IG5ldyBVaW50OEFycmF5KGZpbGVEYXRhLCBwb3NpdGlvbiwgbGVuZ3RoKTsKICAgICAgcG9zaXRpb24gKz0gbGVuZ3RoOwoKICAgICAgY29uc3QgYmFzZTY0ID0gYnRvYShTdHJpbmcuZnJvbUNoYXJDb2RlLmFwcGx5KG51bGwsIGNodW5rKSk7CiAgICAgIHlpZWxkIHsKICAgICAgICByZXNwb25zZTogewogICAgICAgICAgYWN0aW9uOiAnYXBwZW5kJywKICAgICAgICAgIGZpbGU6IGZpbGUubmFtZSwKICAgICAgICAgIGRhdGE6IGJhc2U2NCwKICAgICAgICB9LAogICAgICB9OwogICAgICBwZXJjZW50LnRleHRDb250ZW50ID0KICAgICAgICAgIGAke01hdGgucm91bmQoKHBvc2l0aW9uIC8gZmlsZURhdGEuYnl0ZUxlbmd0aCkgKiAxMDApfSUgZG9uZWA7CiAgICB9CiAgfQoKICAvLyBBbGwgZG9uZS4KICB5aWVsZCB7CiAgICByZXNwb25zZTogewogICAgICBhY3Rpb246ICdjb21wbGV0ZScsCiAgICB9CiAgfTsKfQoKc2NvcGUuZ29vZ2xlID0gc2NvcGUuZ29vZ2xlIHx8IHt9OwpzY29wZS5nb29nbGUuY29sYWIgPSBzY29wZS5nb29nbGUuY29sYWIgfHwge307CnNjb3BlLmdvb2dsZS5jb2xhYi5fZmlsZXMgPSB7CiAgX3VwbG9hZEZpbGVzLAogIF91cGxvYWRGaWxlc0NvbnRpbnVlLAp9Owp9KShzZWxmKTsK",
              "ok": true,
              "headers": [
                [
                  "content-type",
                  "application/javascript"
                ]
              ],
              "status": 200,
              "status_text": ""
            }
          },
          "base_uri": "https://localhost:8080/",
          "height": 73
        },
        "outputId": "cd88a80d-2491-4cfa-bf59-494fd58cdc59"
      },
      "source": [
        "from google.colab import files\n",
        "upload = files.upload()"
      ],
      "execution_count": 83,
      "outputs": [
        {
          "output_type": "display_data",
          "data": {
            "text/html": [
              "\n",
              "     <input type=\"file\" id=\"files-158cca6a-5da6-4de3-a671-a5effc62957a\" name=\"files[]\" multiple disabled\n",
              "        style=\"border:none\" />\n",
              "     <output id=\"result-158cca6a-5da6-4de3-a671-a5effc62957a\">\n",
              "      Upload widget is only available when the cell has been executed in the\n",
              "      current browser session. Please rerun this cell to enable.\n",
              "      </output>\n",
              "      <script src=\"/nbextensions/google.colab/files.js\"></script> "
            ],
            "text/plain": [
              "<IPython.core.display.HTML object>"
            ]
          },
          "metadata": {
            "tags": []
          }
        },
        {
          "output_type": "stream",
          "text": [
            "Saving diabetes.csv to diabetes (2).csv\n"
          ],
          "name": "stdout"
        }
      ]
    },
    {
      "cell_type": "markdown",
      "metadata": {
        "id": "EeJ5_1ZYvB49",
        "colab_type": "text"
      },
      "source": [
        "# **Data Pre-processing**"
      ]
    },
    {
      "cell_type": "markdown",
      "metadata": {
        "id": "qy328Sh1sDbK",
        "colab_type": "text"
      },
      "source": [
        "Importing Libraries and dataset"
      ]
    },
    {
      "cell_type": "code",
      "metadata": {
        "id": "YuiuBQcWVTlf",
        "colab_type": "code",
        "colab": {}
      },
      "source": [
        "import numpy as np\n",
        "import pandas as pd\n",
        "import matplotlib.pyplot as plt\n",
        "import seaborn as sns"
      ],
      "execution_count": 84,
      "outputs": []
    },
    {
      "cell_type": "code",
      "metadata": {
        "id": "vcZLnImhtIhs",
        "colab_type": "code",
        "colab": {
          "base_uri": "https://localhost:8080/",
          "height": 202
        },
        "outputId": "782882d4-8489-44dc-e35b-229c2de97b97"
      },
      "source": [
        "df = pd.read_csv('diabetes.csv')\n",
        "df.head(5)"
      ],
      "execution_count": 85,
      "outputs": [
        {
          "output_type": "execute_result",
          "data": {
            "text/html": [
              "<div>\n",
              "<style scoped>\n",
              "    .dataframe tbody tr th:only-of-type {\n",
              "        vertical-align: middle;\n",
              "    }\n",
              "\n",
              "    .dataframe tbody tr th {\n",
              "        vertical-align: top;\n",
              "    }\n",
              "\n",
              "    .dataframe thead th {\n",
              "        text-align: right;\n",
              "    }\n",
              "</style>\n",
              "<table border=\"1\" class=\"dataframe\">\n",
              "  <thead>\n",
              "    <tr style=\"text-align: right;\">\n",
              "      <th></th>\n",
              "      <th>Pregnancies</th>\n",
              "      <th>Glucose</th>\n",
              "      <th>BloodPressure</th>\n",
              "      <th>SkinThickness</th>\n",
              "      <th>Insulin</th>\n",
              "      <th>BMI</th>\n",
              "      <th>DiabetesPedigreeFunction</th>\n",
              "      <th>Age</th>\n",
              "      <th>Outcome</th>\n",
              "    </tr>\n",
              "  </thead>\n",
              "  <tbody>\n",
              "    <tr>\n",
              "      <th>0</th>\n",
              "      <td>6</td>\n",
              "      <td>148</td>\n",
              "      <td>72</td>\n",
              "      <td>35</td>\n",
              "      <td>0</td>\n",
              "      <td>33.6</td>\n",
              "      <td>0.627</td>\n",
              "      <td>50</td>\n",
              "      <td>1</td>\n",
              "    </tr>\n",
              "    <tr>\n",
              "      <th>1</th>\n",
              "      <td>1</td>\n",
              "      <td>85</td>\n",
              "      <td>66</td>\n",
              "      <td>29</td>\n",
              "      <td>0</td>\n",
              "      <td>26.6</td>\n",
              "      <td>0.351</td>\n",
              "      <td>31</td>\n",
              "      <td>0</td>\n",
              "    </tr>\n",
              "    <tr>\n",
              "      <th>2</th>\n",
              "      <td>8</td>\n",
              "      <td>183</td>\n",
              "      <td>64</td>\n",
              "      <td>0</td>\n",
              "      <td>0</td>\n",
              "      <td>23.3</td>\n",
              "      <td>0.672</td>\n",
              "      <td>32</td>\n",
              "      <td>1</td>\n",
              "    </tr>\n",
              "    <tr>\n",
              "      <th>3</th>\n",
              "      <td>1</td>\n",
              "      <td>89</td>\n",
              "      <td>66</td>\n",
              "      <td>23</td>\n",
              "      <td>94</td>\n",
              "      <td>28.1</td>\n",
              "      <td>0.167</td>\n",
              "      <td>21</td>\n",
              "      <td>0</td>\n",
              "    </tr>\n",
              "    <tr>\n",
              "      <th>4</th>\n",
              "      <td>0</td>\n",
              "      <td>137</td>\n",
              "      <td>40</td>\n",
              "      <td>35</td>\n",
              "      <td>168</td>\n",
              "      <td>43.1</td>\n",
              "      <td>2.288</td>\n",
              "      <td>33</td>\n",
              "      <td>1</td>\n",
              "    </tr>\n",
              "  </tbody>\n",
              "</table>\n",
              "</div>"
            ],
            "text/plain": [
              "   Pregnancies  Glucose  BloodPressure  ...  DiabetesPedigreeFunction  Age  Outcome\n",
              "0            6      148             72  ...                     0.627   50        1\n",
              "1            1       85             66  ...                     0.351   31        0\n",
              "2            8      183             64  ...                     0.672   32        1\n",
              "3            1       89             66  ...                     0.167   21        0\n",
              "4            0      137             40  ...                     2.288   33        1\n",
              "\n",
              "[5 rows x 9 columns]"
            ]
          },
          "metadata": {
            "tags": []
          },
          "execution_count": 85
        }
      ]
    },
    {
      "cell_type": "code",
      "metadata": {
        "id": "U7bHMnyftc8N",
        "colab_type": "code",
        "colab": {
          "base_uri": "https://localhost:8080/",
          "height": 314
        },
        "outputId": "34e250cd-e788-4774-bd1b-db4eff379da5"
      },
      "source": [
        "df.describe(include='all')"
      ],
      "execution_count": 86,
      "outputs": [
        {
          "output_type": "execute_result",
          "data": {
            "text/html": [
              "<div>\n",
              "<style scoped>\n",
              "    .dataframe tbody tr th:only-of-type {\n",
              "        vertical-align: middle;\n",
              "    }\n",
              "\n",
              "    .dataframe tbody tr th {\n",
              "        vertical-align: top;\n",
              "    }\n",
              "\n",
              "    .dataframe thead th {\n",
              "        text-align: right;\n",
              "    }\n",
              "</style>\n",
              "<table border=\"1\" class=\"dataframe\">\n",
              "  <thead>\n",
              "    <tr style=\"text-align: right;\">\n",
              "      <th></th>\n",
              "      <th>Pregnancies</th>\n",
              "      <th>Glucose</th>\n",
              "      <th>BloodPressure</th>\n",
              "      <th>SkinThickness</th>\n",
              "      <th>Insulin</th>\n",
              "      <th>BMI</th>\n",
              "      <th>DiabetesPedigreeFunction</th>\n",
              "      <th>Age</th>\n",
              "      <th>Outcome</th>\n",
              "    </tr>\n",
              "  </thead>\n",
              "  <tbody>\n",
              "    <tr>\n",
              "      <th>count</th>\n",
              "      <td>768.000000</td>\n",
              "      <td>768.000000</td>\n",
              "      <td>768.000000</td>\n",
              "      <td>768.000000</td>\n",
              "      <td>768.000000</td>\n",
              "      <td>768.000000</td>\n",
              "      <td>768.000000</td>\n",
              "      <td>768.000000</td>\n",
              "      <td>768.000000</td>\n",
              "    </tr>\n",
              "    <tr>\n",
              "      <th>mean</th>\n",
              "      <td>3.845052</td>\n",
              "      <td>120.894531</td>\n",
              "      <td>69.105469</td>\n",
              "      <td>20.536458</td>\n",
              "      <td>79.799479</td>\n",
              "      <td>31.992578</td>\n",
              "      <td>0.471876</td>\n",
              "      <td>33.240885</td>\n",
              "      <td>0.348958</td>\n",
              "    </tr>\n",
              "    <tr>\n",
              "      <th>std</th>\n",
              "      <td>3.369578</td>\n",
              "      <td>31.972618</td>\n",
              "      <td>19.355807</td>\n",
              "      <td>15.952218</td>\n",
              "      <td>115.244002</td>\n",
              "      <td>7.884160</td>\n",
              "      <td>0.331329</td>\n",
              "      <td>11.760232</td>\n",
              "      <td>0.476951</td>\n",
              "    </tr>\n",
              "    <tr>\n",
              "      <th>min</th>\n",
              "      <td>0.000000</td>\n",
              "      <td>0.000000</td>\n",
              "      <td>0.000000</td>\n",
              "      <td>0.000000</td>\n",
              "      <td>0.000000</td>\n",
              "      <td>0.000000</td>\n",
              "      <td>0.078000</td>\n",
              "      <td>21.000000</td>\n",
              "      <td>0.000000</td>\n",
              "    </tr>\n",
              "    <tr>\n",
              "      <th>25%</th>\n",
              "      <td>1.000000</td>\n",
              "      <td>99.000000</td>\n",
              "      <td>62.000000</td>\n",
              "      <td>0.000000</td>\n",
              "      <td>0.000000</td>\n",
              "      <td>27.300000</td>\n",
              "      <td>0.243750</td>\n",
              "      <td>24.000000</td>\n",
              "      <td>0.000000</td>\n",
              "    </tr>\n",
              "    <tr>\n",
              "      <th>50%</th>\n",
              "      <td>3.000000</td>\n",
              "      <td>117.000000</td>\n",
              "      <td>72.000000</td>\n",
              "      <td>23.000000</td>\n",
              "      <td>30.500000</td>\n",
              "      <td>32.000000</td>\n",
              "      <td>0.372500</td>\n",
              "      <td>29.000000</td>\n",
              "      <td>0.000000</td>\n",
              "    </tr>\n",
              "    <tr>\n",
              "      <th>75%</th>\n",
              "      <td>6.000000</td>\n",
              "      <td>140.250000</td>\n",
              "      <td>80.000000</td>\n",
              "      <td>32.000000</td>\n",
              "      <td>127.250000</td>\n",
              "      <td>36.600000</td>\n",
              "      <td>0.626250</td>\n",
              "      <td>41.000000</td>\n",
              "      <td>1.000000</td>\n",
              "    </tr>\n",
              "    <tr>\n",
              "      <th>max</th>\n",
              "      <td>17.000000</td>\n",
              "      <td>199.000000</td>\n",
              "      <td>122.000000</td>\n",
              "      <td>99.000000</td>\n",
              "      <td>846.000000</td>\n",
              "      <td>67.100000</td>\n",
              "      <td>2.420000</td>\n",
              "      <td>81.000000</td>\n",
              "      <td>1.000000</td>\n",
              "    </tr>\n",
              "  </tbody>\n",
              "</table>\n",
              "</div>"
            ],
            "text/plain": [
              "       Pregnancies     Glucose  ...         Age     Outcome\n",
              "count   768.000000  768.000000  ...  768.000000  768.000000\n",
              "mean      3.845052  120.894531  ...   33.240885    0.348958\n",
              "std       3.369578   31.972618  ...   11.760232    0.476951\n",
              "min       0.000000    0.000000  ...   21.000000    0.000000\n",
              "25%       1.000000   99.000000  ...   24.000000    0.000000\n",
              "50%       3.000000  117.000000  ...   29.000000    0.000000\n",
              "75%       6.000000  140.250000  ...   41.000000    1.000000\n",
              "max      17.000000  199.000000  ...   81.000000    1.000000\n",
              "\n",
              "[8 rows x 9 columns]"
            ]
          },
          "metadata": {
            "tags": []
          },
          "execution_count": 86
        }
      ]
    },
    {
      "cell_type": "markdown",
      "metadata": {
        "id": "mtfdNMrv0JGc",
        "colab_type": "text"
      },
      "source": [
        "**Step 2:** Checking Missing values in the data"
      ]
    },
    {
      "cell_type": "code",
      "metadata": {
        "id": "-RGr-DGUVVIF",
        "colab_type": "code",
        "colab": {
          "base_uri": "https://localhost:8080/",
          "height": 208
        },
        "outputId": "f9d48f40-6c75-47d7-b9c1-7ed37f1431f6"
      },
      "source": [
        "print(df.shape)\n",
        "df.isnull().sum()"
      ],
      "execution_count": 87,
      "outputs": [
        {
          "output_type": "stream",
          "text": [
            "(768, 9)\n"
          ],
          "name": "stdout"
        },
        {
          "output_type": "execute_result",
          "data": {
            "text/plain": [
              "Pregnancies                 0\n",
              "Glucose                     0\n",
              "BloodPressure               0\n",
              "SkinThickness               0\n",
              "Insulin                     0\n",
              "BMI                         0\n",
              "DiabetesPedigreeFunction    0\n",
              "Age                         0\n",
              "Outcome                     0\n",
              "dtype: int64"
            ]
          },
          "metadata": {
            "tags": []
          },
          "execution_count": 87
        }
      ]
    },
    {
      "cell_type": "markdown",
      "metadata": {
        "id": "czvRSp9x1UOS",
        "colab_type": "text"
      },
      "source": [
        "**Step 3:** Encoding categorical variables\n",
        "Since,The dataset has no categorical variables as all the variables are int and float data types and no object data type found."
      ]
    },
    {
      "cell_type": "code",
      "metadata": {
        "id": "lz02JaUP1TDJ",
        "colab_type": "code",
        "colab": {
          "base_uri": "https://localhost:8080/",
          "height": 295
        },
        "outputId": "b91ac94e-000a-4d73-bb3c-8d1f251e61ed"
      },
      "source": [
        "df.info()"
      ],
      "execution_count": 88,
      "outputs": [
        {
          "output_type": "stream",
          "text": [
            "<class 'pandas.core.frame.DataFrame'>\n",
            "RangeIndex: 768 entries, 0 to 767\n",
            "Data columns (total 9 columns):\n",
            " #   Column                    Non-Null Count  Dtype  \n",
            "---  ------                    --------------  -----  \n",
            " 0   Pregnancies               768 non-null    int64  \n",
            " 1   Glucose                   768 non-null    int64  \n",
            " 2   BloodPressure             768 non-null    int64  \n",
            " 3   SkinThickness             768 non-null    int64  \n",
            " 4   Insulin                   768 non-null    int64  \n",
            " 5   BMI                       768 non-null    float64\n",
            " 6   DiabetesPedigreeFunction  768 non-null    float64\n",
            " 7   Age                       768 non-null    int64  \n",
            " 8   Outcome                   768 non-null    int64  \n",
            "dtypes: float64(2), int64(7)\n",
            "memory usage: 54.1 KB\n"
          ],
          "name": "stdout"
        }
      ]
    },
    {
      "cell_type": "code",
      "metadata": {
        "id": "TLd7P4dsTvKW",
        "colab_type": "code",
        "colab": {
          "base_uri": "https://localhost:8080/",
          "height": 69
        },
        "outputId": "88dd5305-ceee-4abc-ffe1-f64625d38530"
      },
      "source": [
        "df['Outcome'].value_counts()"
      ],
      "execution_count": 89,
      "outputs": [
        {
          "output_type": "execute_result",
          "data": {
            "text/plain": [
              "0    500\n",
              "1    268\n",
              "Name: Outcome, dtype: int64"
            ]
          },
          "metadata": {
            "tags": []
          },
          "execution_count": 89
        }
      ]
    },
    {
      "cell_type": "code",
      "metadata": {
        "id": "FhhJDoeKUPip",
        "colab_type": "code",
        "colab": {
          "base_uri": "https://localhost:8080/",
          "height": 297
        },
        "outputId": "8b56b387-15a9-4bbf-9575-3a19756eacdc"
      },
      "source": [
        "sns.countplot(df['Outcome'],label = 'count')"
      ],
      "execution_count": 90,
      "outputs": [
        {
          "output_type": "execute_result",
          "data": {
            "text/plain": [
              "<matplotlib.axes._subplots.AxesSubplot at 0x7f13446f1908>"
            ]
          },
          "metadata": {
            "tags": []
          },
          "execution_count": 90
        },
        {
          "output_type": "display_data",
          "data": {
            "image/png": "[encoded data removed]",
            "text/plain": [
              "<Figure size 432x288 with 1 Axes>"
            ]
          },
          "metadata": {
            "tags": [],
            "needs_background": "light"
          }
        }
      ]
    },
    {
      "cell_type": "code",
      "metadata": {
        "id": "_pHDVkFUYAfY",
        "colab_type": "code",
        "colab": {
          "base_uri": "https://localhost:8080/",
          "height": 345
        },
        "outputId": "b30388ce-e9b5-49fb-c1ee-5ef1dbd129f8"
      },
      "source": [
        "df.iloc[:,0:9].corr().round(2)"
      ],
      "execution_count": 91,
      "outputs": [
        {
          "output_type": "execute_result",
          "data": {
            "text/html": [
              "<div>\n",
              "<style scoped>\n",
              "    .dataframe tbody tr th:only-of-type {\n",
              "        vertical-align: middle;\n",
              "    }\n",
              "\n",
              "    .dataframe tbody tr th {\n",
              "        vertical-align: top;\n",
              "    }\n",
              "\n",
              "    .dataframe thead th {\n",
              "        text-align: right;\n",
              "    }\n",
              "</style>\n",
              "<table border=\"1\" class=\"dataframe\">\n",
              "  <thead>\n",
              "    <tr style=\"text-align: right;\">\n",
              "      <th></th>\n",
              "      <th>Pregnancies</th>\n",
              "      <th>Glucose</th>\n",
              "      <th>BloodPressure</th>\n",
              "      <th>SkinThickness</th>\n",
              "      <th>Insulin</th>\n",
              "      <th>BMI</th>\n",
              "      <th>DiabetesPedigreeFunction</th>\n",
              "      <th>Age</th>\n",
              "      <th>Outcome</th>\n",
              "    </tr>\n",
              "  </thead>\n",
              "  <tbody>\n",
              "    <tr>\n",
              "      <th>Pregnancies</th>\n",
              "      <td>1.00</td>\n",
              "      <td>0.13</td>\n",
              "      <td>0.14</td>\n",
              "      <td>-0.08</td>\n",
              "      <td>-0.07</td>\n",
              "      <td>0.02</td>\n",
              "      <td>-0.03</td>\n",
              "      <td>0.54</td>\n",
              "      <td>0.22</td>\n",
              "    </tr>\n",
              "    <tr>\n",
              "      <th>Glucose</th>\n",
              "      <td>0.13</td>\n",
              "      <td>1.00</td>\n",
              "      <td>0.15</td>\n",
              "      <td>0.06</td>\n",
              "      <td>0.33</td>\n",
              "      <td>0.22</td>\n",
              "      <td>0.14</td>\n",
              "      <td>0.26</td>\n",
              "      <td>0.47</td>\n",
              "    </tr>\n",
              "    <tr>\n",
              "      <th>BloodPressure</th>\n",
              "      <td>0.14</td>\n",
              "      <td>0.15</td>\n",
              "      <td>1.00</td>\n",
              "      <td>0.21</td>\n",
              "      <td>0.09</td>\n",
              "      <td>0.28</td>\n",
              "      <td>0.04</td>\n",
              "      <td>0.24</td>\n",
              "      <td>0.07</td>\n",
              "    </tr>\n",
              "    <tr>\n",
              "      <th>SkinThickness</th>\n",
              "      <td>-0.08</td>\n",
              "      <td>0.06</td>\n",
              "      <td>0.21</td>\n",
              "      <td>1.00</td>\n",
              "      <td>0.44</td>\n",
              "      <td>0.39</td>\n",
              "      <td>0.18</td>\n",
              "      <td>-0.11</td>\n",
              "      <td>0.07</td>\n",
              "    </tr>\n",
              "    <tr>\n",
              "      <th>Insulin</th>\n",
              "      <td>-0.07</td>\n",
              "      <td>0.33</td>\n",
              "      <td>0.09</td>\n",
              "      <td>0.44</td>\n",
              "      <td>1.00</td>\n",
              "      <td>0.20</td>\n",
              "      <td>0.19</td>\n",
              "      <td>-0.04</td>\n",
              "      <td>0.13</td>\n",
              "    </tr>\n",
              "    <tr>\n",
              "      <th>BMI</th>\n",
              "      <td>0.02</td>\n",
              "      <td>0.22</td>\n",
              "      <td>0.28</td>\n",
              "      <td>0.39</td>\n",
              "      <td>0.20</td>\n",
              "      <td>1.00</td>\n",
              "      <td>0.14</td>\n",
              "      <td>0.04</td>\n",
              "      <td>0.29</td>\n",
              "    </tr>\n",
              "    <tr>\n",
              "      <th>DiabetesPedigreeFunction</th>\n",
              "      <td>-0.03</td>\n",
              "      <td>0.14</td>\n",
              "      <td>0.04</td>\n",
              "      <td>0.18</td>\n",
              "      <td>0.19</td>\n",
              "      <td>0.14</td>\n",
              "      <td>1.00</td>\n",
              "      <td>0.03</td>\n",
              "      <td>0.17</td>\n",
              "    </tr>\n",
              "    <tr>\n",
              "      <th>Age</th>\n",
              "      <td>0.54</td>\n",
              "      <td>0.26</td>\n",
              "      <td>0.24</td>\n",
              "      <td>-0.11</td>\n",
              "      <td>-0.04</td>\n",
              "      <td>0.04</td>\n",
              "      <td>0.03</td>\n",
              "      <td>1.00</td>\n",
              "      <td>0.24</td>\n",
              "    </tr>\n",
              "    <tr>\n",
              "      <th>Outcome</th>\n",
              "      <td>0.22</td>\n",
              "      <td>0.47</td>\n",
              "      <td>0.07</td>\n",
              "      <td>0.07</td>\n",
              "      <td>0.13</td>\n",
              "      <td>0.29</td>\n",
              "      <td>0.17</td>\n",
              "      <td>0.24</td>\n",
              "      <td>1.00</td>\n",
              "    </tr>\n",
              "  </tbody>\n",
              "</table>\n",
              "</div>"
            ],
            "text/plain": [
              "                          Pregnancies  Glucose  ...   Age  Outcome\n",
              "Pregnancies                      1.00     0.13  ...  0.54     0.22\n",
              "Glucose                          0.13     1.00  ...  0.26     0.47\n",
              "BloodPressure                    0.14     0.15  ...  0.24     0.07\n",
              "SkinThickness                   -0.08     0.06  ... -0.11     0.07\n",
              "Insulin                         -0.07     0.33  ... -0.04     0.13\n",
              "BMI                              0.02     0.22  ...  0.04     0.29\n",
              "DiabetesPedigreeFunction        -0.03     0.14  ...  0.03     0.17\n",
              "Age                              0.54     0.26  ...  1.00     0.24\n",
              "Outcome                          0.22     0.47  ...  0.24     1.00\n",
              "\n",
              "[9 rows x 9 columns]"
            ]
          },
          "metadata": {
            "tags": []
          },
          "execution_count": 91
        }
      ]
    },
    {
      "cell_type": "code",
      "metadata": {
        "id": "w21j9dTGbd9K",
        "colab_type": "code",
        "colab": {
          "base_uri": "https://localhost:8080/",
          "height": 407
        },
        "outputId": "c00c8479-073b-4b2b-abf6-5fcf24b69da3"
      },
      "source": [
        "plt.figure()\n",
        "sns.heatmap(df.iloc[:,0:8].corr(),annot=True,fmt='.0%')"
      ],
      "execution_count": 92,
      "outputs": [
        {
          "output_type": "execute_result",
          "data": {
            "text/plain": [
              "<matplotlib.axes._subplots.AxesSubplot at 0x7f13842acb38>"
            ]
          },
          "metadata": {
            "tags": []
          },
          "execution_count": 92
        },
        {
          "output_type": "display_data",
          "data": {
            "image/png": "[encoded data removed]",
            "text/plain": [
              "<Figure size 432x288 with 2 Axes>"
            ]
          },
          "metadata": {
            "tags": [],
            "needs_background": "light"
          }
        }
      ]
    },
    {
      "cell_type": "markdown",
      "metadata": {
        "id": "rb-aRzen0k53",
        "colab_type": "text"
      },
      "source": [
        "**Step 4:** Spliting the dataset"
      ]
    },
    {
      "cell_type": "code",
      "metadata": {
        "id": "8Fd9dGPidn8W",
        "colab_type": "code",
        "colab": {}
      },
      "source": [
        "# defining independent and dependent variables\n",
        "X = df.iloc[:,0:8].values\n",
        "Y = df['Outcome'].values"
      ],
      "execution_count": 93,
      "outputs": []
    },
    {
      "cell_type": "code",
      "metadata": {
        "id": "0XolWoqYfrBR",
        "colab_type": "code",
        "colab": {}
      },
      "source": [
        "# Splitting the dataset\n",
        "from sklearn.model_selection import train_test_split\n",
        "from sklearn.preprocessing import StandardScaler\n",
        "x_train,x_test,y_train,y_test = train_test_split(X,Y,test_size = 0.2,random_state = 0)"
      ],
      "execution_count": 94,
      "outputs": []
    },
    {
      "cell_type": "markdown",
      "metadata": {
        "id": "oJzT3VE5BOJN",
        "colab_type": "text"
      },
      "source": [
        "**Step 5:** Feature Scaling"
      ]
    },
    {
      "cell_type": "code",
      "metadata": {
        "id": "rl1EvtJ6jEs1",
        "colab_type": "code",
        "colab": {}
      },
      "source": [
        "# Scaling the values of train and test set\n",
        "sc = StandardScaler()\n",
        "x_train = sc.fit_transform(x_train)\n",
        "x_test = sc.fit_transform(x_test)"
      ],
      "execution_count": 95,
      "outputs": []
    },
    {
      "cell_type": "markdown",
      "metadata": {
        "id": "IwixirkFlYVn",
        "colab_type": "text"
      },
      "source": [
        "## **Model Selection**\n",
        "The logistic regression, decision tree, random forest and neural networking models are trained and tested and the model with good accuracy is selected."
      ]
    },
    {
      "cell_type": "code",
      "metadata": {
        "id": "vpuXHjZH99RG",
        "colab_type": "code",
        "colab": {}
      },
      "source": [
        "def models(x_train,y_train):\n",
        "  #logistic\n",
        "  from sklearn.linear_model import LogisticRegression\n",
        "  log=LogisticRegression(random_state=0)\n",
        "  log.fit(x_train,y_train)\n",
        "\n",
        "  #Decision tree\n",
        "  from sklearn.tree import DecisionTreeClassifier\n",
        "  tree=DecisionTreeClassifier(criterion='entropy',random_state=0)\n",
        "  tree.fit(x_train,y_train)\n",
        "\n",
        "  #rf\n",
        "  from sklearn.ensemble import RandomForestClassifier\n",
        "  rf= RandomForestClassifier(n_estimators=10,criterion='entropy',random_state=0)\n",
        "  rf.fit(x_train,y_train)\n",
        "\n",
        "  #print the model accuracy\n",
        "  print('[0] Logistic accuracy:',log.score(x_train,y_train))\n",
        "  print('[1] Decision Tree accuracy:',tree.score(x_train,y_train))\n",
        "  print('[2] random forest accuracy:',rf.score(x_train,y_train))\n",
        "  return log,tree,rf"
      ],
      "execution_count": 96,
      "outputs": []
    },
    {
      "cell_type": "markdown",
      "metadata": {
        "id": "Fc8amzzd-eNt",
        "colab_type": "text"
      },
      "source": [
        "Accuracy of train data for the above models."
      ]
    },
    {
      "cell_type": "code",
      "metadata": {
        "id": "QgcJQIyS8eaE",
        "colab_type": "code",
        "colab": {
          "base_uri": "https://localhost:8080/",
          "height": 69
        },
        "outputId": "db1bdbf3-056f-49bb-ed13-fa6c2b452a5d"
      },
      "source": [
        "model=models(x_train, y_train)"
      ],
      "execution_count": 97,
      "outputs": [
        {
          "output_type": "stream",
          "text": [
            "[0] Logistic accuracy: 0.762214983713355\n",
            "[1] Decision Tree accuracy: 1.0\n",
            "[2] random forest accuracy: 0.9820846905537459\n"
          ],
          "name": "stdout"
        }
      ]
    },
    {
      "cell_type": "markdown",
      "metadata": {
        "id": "xXCL7wiKPWz6",
        "colab_type": "text"
      },
      "source": [
        "Here, decision tree model and random forest shows overfitting of accuracy as they are less than or equal to 1. So, we continue further with the logistic model."
      ]
    },
    {
      "cell_type": "markdown",
      "metadata": {
        "id": "Rd5pH-Ql-LpR",
        "colab_type": "text"
      },
      "source": [
        "# **Logistic Regression model**\n"
      ]
    },
    {
      "cell_type": "code",
      "metadata": {
        "id": "J2G4Bicv-Wg2",
        "colab_type": "code",
        "colab": {
          "base_uri": "https://localhost:8080/",
          "height": 104
        },
        "outputId": "f3a067fb-25cb-4ccd-f7b0-c6f2669f8cba"
      },
      "source": [
        "from sklearn.linear_model import LogisticRegression\n",
        "log=LogisticRegression(random_state=0)\n",
        "log.fit(x_train,y_train)"
      ],
      "execution_count": 98,
      "outputs": [
        {
          "output_type": "execute_result",
          "data": {
            "text/plain": [
              "LogisticRegression(C=1.0, class_weight=None, dual=False, fit_intercept=True,\n",
              "                   intercept_scaling=1, l1_ratio=None, max_iter=100,\n",
              "                   multi_class='auto', n_jobs=None, penalty='l2',\n",
              "                   random_state=0, solver='lbfgs', tol=0.0001, verbose=0,\n",
              "                   warm_start=False)"
            ]
          },
          "metadata": {
            "tags": []
          },
          "execution_count": 98
        }
      ]
    },
    {
      "cell_type": "markdown",
      "metadata": {
        "id": "fsMA1YzZ-sQX",
        "colab_type": "text"
      },
      "source": [
        "Predicting Test results for the model"
      ]
    },
    {
      "cell_type": "code",
      "metadata": {
        "id": "-xVk8Ygf-w-U",
        "colab_type": "code",
        "colab": {
          "base_uri": "https://localhost:8080/",
          "height": 1000
        },
        "outputId": "4836d6bf-4e22-4a73-d162-3002790f9c88"
      },
      "source": [
        "y_pred_log = log.predict(x_test)\n",
        "print(np.concatenate((y_pred.reshape(len(y_pred_log),1), y_test.reshape(len(y_test),1)),1))"
      ],
      "execution_count": 103,
      "outputs": [
        {
          "output_type": "stream",
          "text": [
            "[[1 1]\n",
            " [0 0]\n",
            " [0 0]\n",
            " [1 1]\n",
            " [0 0]\n",
            " [0 0]\n",
            " [1 1]\n",
            " [1 1]\n",
            " [0 0]\n",
            " [0 0]\n",
            " [1 1]\n",
            " [1 1]\n",
            " [0 0]\n",
            " [0 0]\n",
            " [0 0]\n",
            " [0 0]\n",
            " [1 1]\n",
            " [0 0]\n",
            " [0 0]\n",
            " [0 0]\n",
            " [1 1]\n",
            " [0 1]\n",
            " [0 0]\n",
            " [0 0]\n",
            " [0 0]\n",
            " [0 0]\n",
            " [0 0]\n",
            " [1 0]\n",
            " [0 0]\n",
            " [0 0]\n",
            " [1 0]\n",
            " [0 0]\n",
            " [0 0]\n",
            " [0 0]\n",
            " [0 0]\n",
            " [1 1]\n",
            " [0 1]\n",
            " [0 0]\n",
            " [0 0]\n",
            " [1 0]\n",
            " [0 0]\n",
            " [0 0]\n",
            " [0 0]\n",
            " [1 1]\n",
            " [1 1]\n",
            " [0 0]\n",
            " [0 0]\n",
            " [0 1]\n",
            " [0 1]\n",
            " [0 1]\n",
            " [0 0]\n",
            " [0 0]\n",
            " [1 1]\n",
            " [1 0]\n",
            " [0 0]\n",
            " [0 0]\n",
            " [0 0]\n",
            " [1 1]\n",
            " [0 1]\n",
            " [0 1]\n",
            " [1 1]\n",
            " [0 0]\n",
            " [0 0]\n",
            " [1 1]\n",
            " [1 1]\n",
            " [1 1]\n",
            " [1 1]\n",
            " [0 0]\n",
            " [0 0]\n",
            " [0 0]\n",
            " [0 0]\n",
            " [0 0]\n",
            " [0 0]\n",
            " [1 0]\n",
            " [1 1]\n",
            " [0 0]\n",
            " [0 0]\n",
            " [1 0]\n",
            " [0 0]\n",
            " [0 0]\n",
            " [0 0]\n",
            " [0 0]\n",
            " [0 0]\n",
            " [0 0]\n",
            " [0 0]\n",
            " [0 0]\n",
            " [0 1]\n",
            " [0 0]\n",
            " [1 1]\n",
            " [0 0]\n",
            " [0 0]\n",
            " [0 0]\n",
            " [0 0]\n",
            " [0 0]\n",
            " [1 0]\n",
            " [0 0]\n",
            " [0 1]\n",
            " [1 0]\n",
            " [1 1]\n",
            " [0 1]\n",
            " [0 0]\n",
            " [0 0]\n",
            " [0 0]\n",
            " [0 0]\n",
            " [1 0]\n",
            " [0 1]\n",
            " [0 0]\n",
            " [0 0]\n",
            " [0 0]\n",
            " [1 1]\n",
            " [0 0]\n",
            " [0 1]\n",
            " [1 1]\n",
            " [0 1]\n",
            " [1 1]\n",
            " [1 1]\n",
            " [0 0]\n",
            " [1 0]\n",
            " [0 0]\n",
            " [1 1]\n",
            " [0 0]\n",
            " [0 0]\n",
            " [0 0]\n",
            " [1 0]\n",
            " [0 0]\n",
            " [0 0]\n",
            " [0 0]\n",
            " [0 1]\n",
            " [1 0]\n",
            " [0 0]\n",
            " [0 0]\n",
            " [0 0]\n",
            " [0 0]\n",
            " [1 1]\n",
            " [0 0]\n",
            " [0 1]\n",
            " [0 0]\n",
            " [0 1]\n",
            " [1 1]\n",
            " [0 0]\n",
            " [0 0]\n",
            " [1 0]\n",
            " [0 0]\n",
            " [0 0]\n",
            " [0 1]\n",
            " [0 0]\n",
            " [0 0]\n",
            " [0 0]\n",
            " [0 0]\n",
            " [0 1]\n",
            " [0 0]\n",
            " [1 1]\n",
            " [0 0]\n",
            " [0 0]]\n"
          ],
          "name": "stdout"
        }
      ]
    },
    {
      "cell_type": "markdown",
      "metadata": {
        "id": "XTiwpMAn_Pzs",
        "colab_type": "text"
      },
      "source": [
        "**Model Evaluation**"
      ]
    },
    {
      "cell_type": "code",
      "metadata": {
        "id": "NlPuwQIljUv3",
        "colab_type": "code",
        "colab": {}
      },
      "source": [
        "from sklearn.metrics import accuracy_score,f1_score,confusion_matrix"
      ],
      "execution_count": 104,
      "outputs": []
    },
    {
      "cell_type": "markdown",
      "metadata": {
        "id": "-JGwBQ8iRCyY",
        "colab_type": "text"
      },
      "source": [
        "***accuracy_score:*** In multilabel classification, this function computes subset accuracy: the set of labels predicted for a sample must exactly match the corresponding set of labels in y_true."
      ]
    },
    {
      "cell_type": "code",
      "metadata": {
        "id": "B_c1sKormsYI",
        "colab_type": "code",
        "colab": {
          "base_uri": "https://localhost:8080/",
          "height": 35
        },
        "outputId": "533ce1fe-cf71-4757-ac09-7078affa6ee6"
      },
      "source": [
        "# Accuracy Score fore test data\n",
        "accuracy_score(y_pred_log,y_test)"
      ],
      "execution_count": 105,
      "outputs": [
        {
          "output_type": "execute_result",
          "data": {
            "text/plain": [
              "0.7987012987012987"
            ]
          },
          "metadata": {
            "tags": []
          },
          "execution_count": 105
        }
      ]
    },
    {
      "cell_type": "markdown",
      "metadata": {
        "id": "OthvbGHXST6K",
        "colab_type": "text"
      },
      "source": [
        "***F1 score*** can be interpreted as a weighted average of the precision and recall, where an F1 score reaches its best value at 1 and worst score at 0. The relative contribution of precision and recall to the F1 score are equal. \n",
        "The formula for the F1 score is:\n",
        "\n",
        "> F1 = 2 * (precision * recall) / (precision + recall) \n",
        "\n",
        "In the multi-class and multi-label case, this is the average of the F1 score of each class with weighting depending on the average parameter."
      ]
    },
    {
      "cell_type": "code",
      "metadata": {
        "id": "0IL842HxmwKI",
        "colab_type": "code",
        "colab": {
          "base_uri": "https://localhost:8080/",
          "height": 35
        },
        "outputId": "080333d1-ea77-4840-ea50-125831103f0d"
      },
      "source": [
        "# F1 score for test data\n",
        "f1_score(y_pred_log,y_test)"
      ],
      "execution_count": 106,
      "outputs": [
        {
          "output_type": "execute_result",
          "data": {
            "text/plain": [
              "0.651685393258427"
            ]
          },
          "metadata": {
            "tags": []
          },
          "execution_count": 106
        }
      ]
    },
    {
      "cell_type": "markdown",
      "metadata": {
        "id": "3goADfn2TqWM",
        "colab_type": "text"
      },
      "source": [
        "***A confusion matrix*** is a summary of prediction results on a classification problem.\n",
        "\n",
        "The number of correct and incorrect predictions are summarized with count values and broken down by each class."
      ]
    },
    {
      "cell_type": "code",
      "metadata": {
        "id": "bfekz--im9qf",
        "colab_type": "code",
        "colab": {
          "base_uri": "https://localhost:8080/",
          "height": 52
        },
        "outputId": "85aa0422-a7d1-49cd-8d44-0f92e95a2246"
      },
      "source": [
        "# Confusion matrix\n",
        "confusion_matrix(y_pred_log,y_test)"
      ],
      "execution_count": 107,
      "outputs": [
        {
          "output_type": "execute_result",
          "data": {
            "text/plain": [
              "array([[94, 18],\n",
              "       [13, 29]])"
            ]
          },
          "metadata": {
            "tags": []
          },
          "execution_count": 107
        }
      ]
    },
    {
      "cell_type": "markdown",
      "metadata": {
        "id": "2JCWtM5Ktylp",
        "colab_type": "text"
      },
      "source": [
        "# **Neural Network Model**"
      ]
    },
    {
      "cell_type": "markdown",
      "metadata": {
        "id": "mcQubOnMngK_",
        "colab_type": "text"
      },
      "source": [
        "**Neural Network**\n",
        " has four activation layers: Sigmoid, Relu, Leaky relu, Softmax.\n",
        "The Input layer < Hidden layer < Output layer.\n",
        "\n"
      ]
    },
    {
      "cell_type": "code",
      "metadata": {
        "id": "4TikaWSUofim",
        "colab_type": "code",
        "colab": {}
      },
      "source": [
        "from keras.models import Sequential\n",
        "from keras.layers import Dense,Dropout"
      ],
      "execution_count": 108,
      "outputs": []
    },
    {
      "cell_type": "code",
      "metadata": {
        "id": "KI6ULcfn_90C",
        "colab_type": "code",
        "colab": {}
      },
      "source": [
        "\n",
        "neural_model=Sequential()\n",
        "neural_model.add(Dense(16,input_dim=8,activation='relu'))\n",
        "neural_model.add(Dropout(0.2))\n",
        "neural_model.add(Dense(32,activation='relu'))\n",
        "neural_model.add(Dropout(0.2))\n",
        "neural_model.add(Dense(64,activation='relu'))\n",
        "neural_model.add(Dropout(0.2))\n",
        "neural_model.add(Dense(1,activation='sigmoid'))\n"
      ],
      "execution_count": 109,
      "outputs": []
    },
    {
      "cell_type": "markdown",
      "metadata": {
        "id": "GM_cTuGE8PTC",
        "colab_type": "text"
      },
      "source": [
        "Stochastic gradient descent termed as ***adam*** is the most commonly used optimizer while building a neural network model. \n",
        "\n",
        "Dependent variable is categorical with two classification values 0 and 1. Hence, ***binary_crossentrop***y loss function is used."
      ]
    },
    {
      "cell_type": "code",
      "metadata": {
        "id": "Thz8BXTeAj9T",
        "colab_type": "code",
        "colab": {}
      },
      "source": [
        "neural_model.compile(optimizer='adam',loss='binary_crossentropy',metrics=['accuracy'])"
      ],
      "execution_count": 110,
      "outputs": []
    },
    {
      "cell_type": "code",
      "metadata": {
        "id": "hZw7pJhgopSP",
        "colab_type": "code",
        "colab": {
          "base_uri": "https://localhost:8080/",
          "height": 1000
        },
        "outputId": "4509cc6b-3abb-4fd2-9afd-fdfb3d777ab2"
      },
      "source": [
        "neural_model.fit(x_train, y_train, batch_size = 32, epochs = 100)"
      ],
      "execution_count": 111,
      "outputs": [
        {
          "output_type": "stream",
          "text": [
            "Epoch 1/100\n",
            "20/20 [==============================] - 0s 1ms/step - loss: 0.6785 - accuracy: 0.5782\n",
            "Epoch 2/100\n",
            "20/20 [==============================] - 0s 1ms/step - loss: 0.6249 - accuracy: 0.6531\n",
            "Epoch 3/100\n",
            "20/20 [==============================] - 0s 1ms/step - loss: 0.5935 - accuracy: 0.6954\n",
            "Epoch 4/100\n",
            "20/20 [==============================] - 0s 1ms/step - loss: 0.5710 - accuracy: 0.7036\n",
            "Epoch 5/100\n",
            "20/20 [==============================] - 0s 1ms/step - loss: 0.5411 - accuracy: 0.7182\n",
            "Epoch 6/100\n",
            "20/20 [==============================] - 0s 1ms/step - loss: 0.5260 - accuracy: 0.7427\n",
            "Epoch 7/100\n",
            "20/20 [==============================] - 0s 1ms/step - loss: 0.5251 - accuracy: 0.7410\n",
            "Epoch 8/100\n",
            "20/20 [==============================] - 0s 1ms/step - loss: 0.5189 - accuracy: 0.7410\n",
            "Epoch 9/100\n",
            "20/20 [==============================] - 0s 1ms/step - loss: 0.5182 - accuracy: 0.7459\n",
            "Epoch 10/100\n",
            "20/20 [==============================] - 0s 1ms/step - loss: 0.5216 - accuracy: 0.7362\n",
            "Epoch 11/100\n",
            "20/20 [==============================] - 0s 1ms/step - loss: 0.5042 - accuracy: 0.7443\n",
            "Epoch 12/100\n",
            "20/20 [==============================] - 0s 1ms/step - loss: 0.5073 - accuracy: 0.7492\n",
            "Epoch 13/100\n",
            "20/20 [==============================] - 0s 1ms/step - loss: 0.5026 - accuracy: 0.7541\n",
            "Epoch 14/100\n",
            "20/20 [==============================] - 0s 1ms/step - loss: 0.5012 - accuracy: 0.7638\n",
            "Epoch 15/100\n",
            "20/20 [==============================] - 0s 2ms/step - loss: 0.5132 - accuracy: 0.7459\n",
            "Epoch 16/100\n",
            "20/20 [==============================] - 0s 1ms/step - loss: 0.5011 - accuracy: 0.7720\n",
            "Epoch 17/100\n",
            "20/20 [==============================] - 0s 1ms/step - loss: 0.4813 - accuracy: 0.7557\n",
            "Epoch 18/100\n",
            "20/20 [==============================] - 0s 1ms/step - loss: 0.4938 - accuracy: 0.7752\n",
            "Epoch 19/100\n",
            "20/20 [==============================] - 0s 1ms/step - loss: 0.4873 - accuracy: 0.7638\n",
            "Epoch 20/100\n",
            "20/20 [==============================] - 0s 1ms/step - loss: 0.4971 - accuracy: 0.7622\n",
            "Epoch 21/100\n",
            "20/20 [==============================] - 0s 1ms/step - loss: 0.5048 - accuracy: 0.7378\n",
            "Epoch 22/100\n",
            "20/20 [==============================] - 0s 1ms/step - loss: 0.5000 - accuracy: 0.7606\n",
            "Epoch 23/100\n",
            "20/20 [==============================] - 0s 1ms/step - loss: 0.4910 - accuracy: 0.7557\n",
            "Epoch 24/100\n",
            "20/20 [==============================] - 0s 1ms/step - loss: 0.4851 - accuracy: 0.7752\n",
            "Epoch 25/100\n",
            "20/20 [==============================] - 0s 1ms/step - loss: 0.4788 - accuracy: 0.7655\n",
            "Epoch 26/100\n",
            "20/20 [==============================] - 0s 1ms/step - loss: 0.4635 - accuracy: 0.7687\n",
            "Epoch 27/100\n",
            "20/20 [==============================] - 0s 1ms/step - loss: 0.4777 - accuracy: 0.7622\n",
            "Epoch 28/100\n",
            "20/20 [==============================] - 0s 1ms/step - loss: 0.4920 - accuracy: 0.7622\n",
            "Epoch 29/100\n",
            "20/20 [==============================] - 0s 1ms/step - loss: 0.5017 - accuracy: 0.7524\n",
            "Epoch 30/100\n",
            "20/20 [==============================] - 0s 1ms/step - loss: 0.5059 - accuracy: 0.7443\n",
            "Epoch 31/100\n",
            "20/20 [==============================] - 0s 1ms/step - loss: 0.4824 - accuracy: 0.7541\n",
            "Epoch 32/100\n",
            "20/20 [==============================] - 0s 1ms/step - loss: 0.4836 - accuracy: 0.7655\n",
            "Epoch 33/100\n",
            "20/20 [==============================] - 0s 1ms/step - loss: 0.4886 - accuracy: 0.7752\n",
            "Epoch 34/100\n",
            "20/20 [==============================] - 0s 1ms/step - loss: 0.4870 - accuracy: 0.7622\n",
            "Epoch 35/100\n",
            "20/20 [==============================] - 0s 1ms/step - loss: 0.4847 - accuracy: 0.7622\n",
            "Epoch 36/100\n",
            "20/20 [==============================] - 0s 1ms/step - loss: 0.4897 - accuracy: 0.7671\n",
            "Epoch 37/100\n",
            "20/20 [==============================] - 0s 1ms/step - loss: 0.4849 - accuracy: 0.7720\n",
            "Epoch 38/100\n",
            "20/20 [==============================] - 0s 1ms/step - loss: 0.4726 - accuracy: 0.7785\n",
            "Epoch 39/100\n",
            "20/20 [==============================] - 0s 1ms/step - loss: 0.4720 - accuracy: 0.7704\n",
            "Epoch 40/100\n",
            "20/20 [==============================] - 0s 1ms/step - loss: 0.4692 - accuracy: 0.7704\n",
            "Epoch 41/100\n",
            "20/20 [==============================] - 0s 1ms/step - loss: 0.4697 - accuracy: 0.7752\n",
            "Epoch 42/100\n",
            "20/20 [==============================] - 0s 1ms/step - loss: 0.4666 - accuracy: 0.7769\n",
            "Epoch 43/100\n",
            "20/20 [==============================] - 0s 1ms/step - loss: 0.4652 - accuracy: 0.7769\n",
            "Epoch 44/100\n",
            "20/20 [==============================] - 0s 1ms/step - loss: 0.4630 - accuracy: 0.7736\n",
            "Epoch 45/100\n",
            "20/20 [==============================] - 0s 1ms/step - loss: 0.4650 - accuracy: 0.7655\n",
            "Epoch 46/100\n",
            "20/20 [==============================] - 0s 1ms/step - loss: 0.4762 - accuracy: 0.7590\n",
            "Epoch 47/100\n",
            "20/20 [==============================] - 0s 1ms/step - loss: 0.4881 - accuracy: 0.7590\n",
            "Epoch 48/100\n",
            "20/20 [==============================] - 0s 1ms/step - loss: 0.4812 - accuracy: 0.7557\n",
            "Epoch 49/100\n",
            "20/20 [==============================] - 0s 1ms/step - loss: 0.4645 - accuracy: 0.7736\n",
            "Epoch 50/100\n",
            "20/20 [==============================] - 0s 1ms/step - loss: 0.4589 - accuracy: 0.7720\n",
            "Epoch 51/100\n",
            "20/20 [==============================] - 0s 1ms/step - loss: 0.4657 - accuracy: 0.7752\n",
            "Epoch 52/100\n",
            "20/20 [==============================] - 0s 1ms/step - loss: 0.4566 - accuracy: 0.7671\n",
            "Epoch 53/100\n",
            "20/20 [==============================] - 0s 1ms/step - loss: 0.4583 - accuracy: 0.7818\n",
            "Epoch 54/100\n",
            "20/20 [==============================] - 0s 1ms/step - loss: 0.4836 - accuracy: 0.7687\n",
            "Epoch 55/100\n",
            "20/20 [==============================] - 0s 1ms/step - loss: 0.4750 - accuracy: 0.7736\n",
            "Epoch 56/100\n",
            "20/20 [==============================] - 0s 2ms/step - loss: 0.4586 - accuracy: 0.7704\n",
            "Epoch 57/100\n",
            "20/20 [==============================] - 0s 1ms/step - loss: 0.4581 - accuracy: 0.7655\n",
            "Epoch 58/100\n",
            "20/20 [==============================] - 0s 1ms/step - loss: 0.4703 - accuracy: 0.7736\n",
            "Epoch 59/100\n",
            "20/20 [==============================] - 0s 1ms/step - loss: 0.4586 - accuracy: 0.7883\n",
            "Epoch 60/100\n",
            "20/20 [==============================] - 0s 1ms/step - loss: 0.4688 - accuracy: 0.7736\n",
            "Epoch 61/100\n",
            "20/20 [==============================] - 0s 1ms/step - loss: 0.4729 - accuracy: 0.7785\n",
            "Epoch 62/100\n",
            "20/20 [==============================] - 0s 1ms/step - loss: 0.4610 - accuracy: 0.7769\n",
            "Epoch 63/100\n",
            "20/20 [==============================] - 0s 1ms/step - loss: 0.4666 - accuracy: 0.7687\n",
            "Epoch 64/100\n",
            "20/20 [==============================] - 0s 1ms/step - loss: 0.4615 - accuracy: 0.7785\n",
            "Epoch 65/100\n",
            "20/20 [==============================] - 0s 1ms/step - loss: 0.4625 - accuracy: 0.7736\n",
            "Epoch 66/100\n",
            "20/20 [==============================] - 0s 1ms/step - loss: 0.4641 - accuracy: 0.7785\n",
            "Epoch 67/100\n",
            "20/20 [==============================] - 0s 1ms/step - loss: 0.4587 - accuracy: 0.7964\n",
            "Epoch 68/100\n",
            "20/20 [==============================] - 0s 1ms/step - loss: 0.4689 - accuracy: 0.7752\n",
            "Epoch 69/100\n",
            "20/20 [==============================] - 0s 1ms/step - loss: 0.4511 - accuracy: 0.7850\n",
            "Epoch 70/100\n",
            "20/20 [==============================] - 0s 1ms/step - loss: 0.4704 - accuracy: 0.7834\n",
            "Epoch 71/100\n",
            "20/20 [==============================] - 0s 1ms/step - loss: 0.4645 - accuracy: 0.7704\n",
            "Epoch 72/100\n",
            "20/20 [==============================] - 0s 1ms/step - loss: 0.4472 - accuracy: 0.7850\n",
            "Epoch 73/100\n",
            "20/20 [==============================] - 0s 1ms/step - loss: 0.4530 - accuracy: 0.7801\n",
            "Epoch 74/100\n",
            "20/20 [==============================] - 0s 1ms/step - loss: 0.4347 - accuracy: 0.8062\n",
            "Epoch 75/100\n",
            "20/20 [==============================] - 0s 1ms/step - loss: 0.4500 - accuracy: 0.7866\n",
            "Epoch 76/100\n",
            "20/20 [==============================] - 0s 1ms/step - loss: 0.4477 - accuracy: 0.7850\n",
            "Epoch 77/100\n",
            "20/20 [==============================] - 0s 1ms/step - loss: 0.4512 - accuracy: 0.7948\n",
            "Epoch 78/100\n",
            "20/20 [==============================] - 0s 1ms/step - loss: 0.4724 - accuracy: 0.7638\n",
            "Epoch 79/100\n",
            "20/20 [==============================] - 0s 1ms/step - loss: 0.4564 - accuracy: 0.7606\n",
            "Epoch 80/100\n",
            "20/20 [==============================] - 0s 1ms/step - loss: 0.4444 - accuracy: 0.7932\n",
            "Epoch 81/100\n",
            "20/20 [==============================] - 0s 1ms/step - loss: 0.4572 - accuracy: 0.7932\n",
            "Epoch 82/100\n",
            "20/20 [==============================] - 0s 1ms/step - loss: 0.4508 - accuracy: 0.8029\n",
            "Epoch 83/100\n",
            "20/20 [==============================] - 0s 1ms/step - loss: 0.4479 - accuracy: 0.7899\n",
            "Epoch 84/100\n",
            "20/20 [==============================] - 0s 1ms/step - loss: 0.4584 - accuracy: 0.7834\n",
            "Epoch 85/100\n",
            "20/20 [==============================] - 0s 1ms/step - loss: 0.4538 - accuracy: 0.7850\n",
            "Epoch 86/100\n",
            "20/20 [==============================] - 0s 1ms/step - loss: 0.4380 - accuracy: 0.7866\n",
            "Epoch 87/100\n",
            "20/20 [==============================] - 0s 1ms/step - loss: 0.4538 - accuracy: 0.7736\n",
            "Epoch 88/100\n",
            "20/20 [==============================] - 0s 1ms/step - loss: 0.4518 - accuracy: 0.7801\n",
            "Epoch 89/100\n",
            "20/20 [==============================] - 0s 1ms/step - loss: 0.4527 - accuracy: 0.7915\n",
            "Epoch 90/100\n",
            "20/20 [==============================] - 0s 1ms/step - loss: 0.4508 - accuracy: 0.7834\n",
            "Epoch 91/100\n",
            "20/20 [==============================] - 0s 2ms/step - loss: 0.4591 - accuracy: 0.7785\n",
            "Epoch 92/100\n",
            "20/20 [==============================] - 0s 1ms/step - loss: 0.4530 - accuracy: 0.7818\n",
            "Epoch 93/100\n",
            "20/20 [==============================] - 0s 1ms/step - loss: 0.4444 - accuracy: 0.7850\n",
            "Epoch 94/100\n",
            "20/20 [==============================] - 0s 1ms/step - loss: 0.4368 - accuracy: 0.7818\n",
            "Epoch 95/100\n",
            "20/20 [==============================] - 0s 1ms/step - loss: 0.4381 - accuracy: 0.7932\n",
            "Epoch 96/100\n",
            "20/20 [==============================] - 0s 1ms/step - loss: 0.4395 - accuracy: 0.7883\n",
            "Epoch 97/100\n",
            "20/20 [==============================] - 0s 1ms/step - loss: 0.4409 - accuracy: 0.8062\n",
            "Epoch 98/100\n",
            "20/20 [==============================] - 0s 1ms/step - loss: 0.4428 - accuracy: 0.7883\n",
            "Epoch 99/100\n",
            "20/20 [==============================] - 0s 1ms/step - loss: 0.4625 - accuracy: 0.7769\n",
            "Epoch 100/100\n",
            "20/20 [==============================] - 0s 1ms/step - loss: 0.4562 - accuracy: 0.7834\n"
          ],
          "name": "stdout"
        },
        {
          "output_type": "execute_result",
          "data": {
            "text/plain": [
              "<tensorflow.python.keras.callbacks.History at 0x7f1341511ef0>"
            ]
          },
          "metadata": {
            "tags": []
          },
          "execution_count": 111
        }
      ]
    },
    {
      "cell_type": "markdown",
      "metadata": {
        "id": "ejcy8zEfvNUw",
        "colab_type": "text"
      },
      "source": [
        "Predicting the test results and evaluating the model\n",
        "\n",
        "If predicted output has prob value greater than 0.5 are assigned 1(person has diabetes) else 0."
      ]
    },
    {
      "cell_type": "code",
      "metadata": {
        "id": "2Jz4vn7-vbxi",
        "colab_type": "code",
        "colab": {
          "base_uri": "https://localhost:8080/",
          "height": 1000
        },
        "outputId": "f3b396c1-67ce-4462-8542-e5dac3178cbb"
      },
      "source": [
        "y_pred_nn = neural_model.predict(x_test)\n",
        "y_pred_nn = (y_pred_nn > 0.5)\n",
        "print(np.concatenate((y_pred_nn.reshape(len(y_pred_nn),1), y_test.reshape(len(y_test),1)),1))"
      ],
      "execution_count": 112,
      "outputs": [
        {
          "output_type": "stream",
          "text": [
            "[[1 1]\n",
            " [0 0]\n",
            " [0 0]\n",
            " [1 1]\n",
            " [0 0]\n",
            " [0 0]\n",
            " [1 1]\n",
            " [1 1]\n",
            " [0 0]\n",
            " [0 0]\n",
            " [1 1]\n",
            " [1 1]\n",
            " [0 0]\n",
            " [0 0]\n",
            " [0 0]\n",
            " [0 0]\n",
            " [1 1]\n",
            " [0 0]\n",
            " [0 0]\n",
            " [0 0]\n",
            " [1 1]\n",
            " [0 1]\n",
            " [0 0]\n",
            " [0 0]\n",
            " [0 0]\n",
            " [0 0]\n",
            " [0 0]\n",
            " [1 0]\n",
            " [0 0]\n",
            " [0 0]\n",
            " [0 0]\n",
            " [0 0]\n",
            " [0 0]\n",
            " [1 0]\n",
            " [0 0]\n",
            " [1 1]\n",
            " [0 1]\n",
            " [0 0]\n",
            " [1 0]\n",
            " [1 0]\n",
            " [0 0]\n",
            " [0 0]\n",
            " [0 0]\n",
            " [1 1]\n",
            " [1 1]\n",
            " [0 0]\n",
            " [0 0]\n",
            " [0 1]\n",
            " [0 1]\n",
            " [0 1]\n",
            " [0 0]\n",
            " [0 0]\n",
            " [1 1]\n",
            " [0 0]\n",
            " [0 0]\n",
            " [0 0]\n",
            " [0 0]\n",
            " [0 1]\n",
            " [0 1]\n",
            " [0 1]\n",
            " [1 1]\n",
            " [0 0]\n",
            " [0 0]\n",
            " [1 1]\n",
            " [1 1]\n",
            " [1 1]\n",
            " [1 1]\n",
            " [0 0]\n",
            " [0 0]\n",
            " [0 0]\n",
            " [0 0]\n",
            " [0 0]\n",
            " [0 0]\n",
            " [1 0]\n",
            " [1 1]\n",
            " [0 0]\n",
            " [0 0]\n",
            " [1 0]\n",
            " [0 0]\n",
            " [0 0]\n",
            " [0 0]\n",
            " [0 0]\n",
            " [0 0]\n",
            " [0 0]\n",
            " [0 0]\n",
            " [0 0]\n",
            " [0 1]\n",
            " [1 0]\n",
            " [1 1]\n",
            " [0 0]\n",
            " [0 0]\n",
            " [0 0]\n",
            " [0 0]\n",
            " [0 0]\n",
            " [1 0]\n",
            " [0 0]\n",
            " [1 1]\n",
            " [1 0]\n",
            " [1 1]\n",
            " [0 1]\n",
            " [0 0]\n",
            " [0 0]\n",
            " [0 0]\n",
            " [0 0]\n",
            " [1 0]\n",
            " [1 1]\n",
            " [0 0]\n",
            " [0 0]\n",
            " [0 0]\n",
            " [1 1]\n",
            " [0 0]\n",
            " [0 1]\n",
            " [1 1]\n",
            " [0 1]\n",
            " [0 1]\n",
            " [1 1]\n",
            " [0 0]\n",
            " [1 0]\n",
            " [0 0]\n",
            " [1 1]\n",
            " [0 0]\n",
            " [0 0]\n",
            " [0 0]\n",
            " [0 0]\n",
            " [0 0]\n",
            " [0 0]\n",
            " [0 0]\n",
            " [0 1]\n",
            " [0 0]\n",
            " [0 0]\n",
            " [0 0]\n",
            " [0 0]\n",
            " [0 0]\n",
            " [1 1]\n",
            " [0 0]\n",
            " [1 1]\n",
            " [0 0]\n",
            " [0 1]\n",
            " [1 1]\n",
            " [0 0]\n",
            " [0 0]\n",
            " [1 0]\n",
            " [0 0]\n",
            " [0 0]\n",
            " [0 1]\n",
            " [0 0]\n",
            " [0 0]\n",
            " [0 0]\n",
            " [0 0]\n",
            " [0 1]\n",
            " [0 0]\n",
            " [1 1]\n",
            " [0 0]\n",
            " [0 0]]\n"
          ],
          "name": "stdout"
        }
      ]
    },
    {
      "cell_type": "markdown",
      "metadata": {
        "id": "ag7GJuCDyZ7a",
        "colab_type": "text"
      },
      "source": [
        "Making the confusion matrix"
      ]
    },
    {
      "cell_type": "code",
      "metadata": {
        "id": "TUA4W304yewV",
        "colab_type": "code",
        "colab": {
          "base_uri": "https://localhost:8080/",
          "height": 69
        },
        "outputId": "ef5d74f8-cdb7-439c-b33f-e71840c2aaad"
      },
      "source": [
        "cm = confusion_matrix(y_test, y_pred_nn)\n",
        "print(cm)\n",
        "accuracy_score(y_test, y_pred_nn)"
      ],
      "execution_count": 113,
      "outputs": [
        {
          "output_type": "stream",
          "text": [
            "[[95 12]\n",
            " [17 30]]\n"
          ],
          "name": "stdout"
        },
        {
          "output_type": "execute_result",
          "data": {
            "text/plain": [
              "0.8116883116883117"
            ]
          },
          "metadata": {
            "tags": []
          },
          "execution_count": 113
        }
      ]
    },
    {
      "cell_type": "markdown",
      "metadata": {
        "id": "QTJl5YRv9mw5",
        "colab_type": "text"
      },
      "source": [
        "**Accuracy score of both the models on the test data.**"
      ]
    },
    {
      "cell_type": "code",
      "metadata": {
        "id": "wzj5KvSW9tpX",
        "colab_type": "code",
        "colab": {
          "base_uri": "https://localhost:8080/",
          "height": 52
        },
        "outputId": "6650cb8e-b4f7-421c-9973-443cd49f29b2"
      },
      "source": [
        "print('Accuracy score of logistic regression model:',accuracy_score(y_pred_log,y_test))\n",
        "print('Accuracy score of Neural Network model:',accuracy_score(y_pred_nn,y_test))\n"
      ],
      "execution_count": 115,
      "outputs": [
        {
          "output_type": "stream",
          "text": [
            "Accuracy score of logistic regression model: 0.7987012987012987\n",
            "Accuracy score of Neural Network model: 0.8116883116883117\n"
          ],
          "name": "stdout"
        }
      ]
    }
  ]
}